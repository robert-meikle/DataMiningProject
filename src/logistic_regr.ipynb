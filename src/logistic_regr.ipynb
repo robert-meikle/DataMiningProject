{
 "cells": [
  {
   "cell_type": "code",
   "execution_count": 25,
   "metadata": {},
   "outputs": [],
   "source": [
    "from sklearn.linear_model import LogisticRegression\n",
    "from sklearn.metrics import classification_report, confusion_matrix\n",
    "\n",
    "import pandas as pd\n",
    "import numpy as np\n",
    "import matplotlib.pyplot as plt\n",
    "\n",
    "train_data_path = \"../data/train/\"\n",
    "test_data_path = \"../data/test/\"\n",
    "\n",
    "train_data_files = [\"AAPL\", \"BRK_B\", \"DVN\",\"NVDA\", \"PCG\", \"ROST\", \"V\", \"VNQ\"]\n",
    "test_data_files = [\"LOW\", \"TSLA\"]"
   ]
  },
  {
   "cell_type": "code",
   "execution_count": 28,
   "metadata": {},
   "outputs": [],
   "source": [
    "train_data_combined = None\n",
    "test_data_combined = None\n",
    "\n",
    "for f in train_data_files:\n",
    "\tdf = pd.read_csv(train_data_path + f + \"_clean.csv\", parse_dates=[\"Date\"], index_col=\"Date\")\n",
    "\tdf = df[[\"5_day\", \"Return\", \"buy\"]]\n",
    "\tif train_data_combined is None:\n",
    "\t\ttrain_data_combined = df\n",
    "\telse:\n",
    "\t\ttrain_data_combined = pd.concat([train_data_combined, df])\n",
    "\n",
    "for f in test_data_files:\n",
    "\tdf = pd.read_csv(test_data_path + f + \"_clean.csv\", parse_dates=[\"Date\"], index_col=\"Date\")\n",
    "\tdf = df[[\"5_day\", \"Return\", \"buy\"]]\n",
    "\tif test_data_combined is None:\n",
    "\t\ttest_data_combined = df\n",
    "\telse:\n",
    "\t\ttest_data_combined = pd.concat([test_data_combined, df])"
   ]
  },
  {
   "cell_type": "code",
   "execution_count": 29,
   "metadata": {},
   "outputs": [
    {
     "data": {
      "text/plain": [
       "19992"
      ]
     },
     "metadata": {},
     "output_type": "display_data"
    },
    {
     "data": {
      "text/plain": [
       "19992"
      ]
     },
     "execution_count": 29,
     "metadata": {},
     "output_type": "execute_result"
    }
   ],
   "source": [
    "train_x, train_y = train_data_combined.drop(\"buy\", axis=1), train_data_combined[\"buy\"]\n",
    "test_x, test_y = test_data_combined.drop(\"buy\", axis=1), test_data_combined[\"buy\"]\n",
    "\n",
    "display(len(train_x))\n",
    "len(train_y)"
   ]
  },
  {
   "cell_type": "code",
   "execution_count": 46,
   "metadata": {},
   "outputs": [
    {
     "name": "stdout",
     "output_type": "stream",
     "text": [
      "[[2280  395]\n",
      " [ 457 1866]]\n",
      "\n",
      "              precision    recall  f1-score   support\n",
      "\n",
      "           0       0.83      0.85      0.84      2675\n",
      "           1       0.83      0.80      0.81      2323\n",
      "\n",
      "    accuracy                           0.83      4998\n",
      "   macro avg       0.83      0.83      0.83      4998\n",
      "weighted avg       0.83      0.83      0.83      4998\n",
      "\n"
     ]
    },
    {
     "data": {
      "text/plain": [
       "0.82953181272509"
      ]
     },
     "execution_count": 46,
     "metadata": {},
     "output_type": "execute_result"
    }
   ],
   "source": [
    "model = LogisticRegression()\n",
    "model.fit(train_x, train_y)\n",
    "\n",
    "pred = model.predict(test_x)\n",
    "print(confusion_matrix(test_y, pred))\n",
    "print(\"\\n\" + classification_report(test_y, pred))\n",
    "model.score(test_x, test_y)"
   ]
  }
 ],
 "metadata": {
  "kernelspec": {
   "display_name": "Python 3",
   "language": "python",
   "name": "python3"
  },
  "language_info": {
   "codemirror_mode": {
    "name": "ipython",
    "version": 3
   },
   "file_extension": ".py",
   "mimetype": "text/x-python",
   "name": "python",
   "nbconvert_exporter": "python",
   "pygments_lexer": "ipython3",
   "version": "3.10.6"
  },
  "orig_nbformat": 4
 },
 "nbformat": 4,
 "nbformat_minor": 2
}
