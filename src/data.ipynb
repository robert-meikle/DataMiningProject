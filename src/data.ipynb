{
 "cells": [
  {
   "cell_type": "code",
   "execution_count": 8,
   "metadata": {},
   "outputs": [],
   "source": [
    "import pandas as pd\n",
    "import matplotlib.pyplot as plt\n",
    "import seaborn as sns\n",
    "\n",
    "train_data_path = \"../data/train/\"\n",
    "test_data_path = \"../data/test/\"\n",
    "\n",
    "train_data_files = [\"AAPL\", \"BRK_B\", \"DVN\",\"NVDA\", \"PCG\", \"ROST\", \"V\", \"VNQ\"]\n",
    "test_data_files = [\"LOW\", \"TSLA\"]"
   ]
  },
  {
   "cell_type": "code",
   "execution_count": 13,
   "metadata": {},
   "outputs": [],
   "source": [
    "for f in train_data_files:\n",
    "\tdf = pd.read_csv(train_data_path + f + \"_clean.csv\", parse_dates=[\"Date\"], index_col=\"Date\")\n",
    "\n",
    "\tdf[\"5_day\"] = df[\"Close/Last\"].rolling(window=5).mean()\n",
    "\tdf[\"10_day\"] = df[\"Close/Last\"].rolling(window=10).mean()\n",
    "\tdf[\"20_day\"] = df[\"Close/Last\"].rolling(window=20).mean()\n",
    "\tdf[\"market_cap_b\"] = (df[\"Volume\"] * df[\"Open\"])/1e9\n",
    "\tdf[\"buy\"] = (df[\"Close/Last\"].shift(-1) > df[\"Close/Last\"]).astype(int)\n",
    "\tdf.dropna(inplace=True)\n",
    "\tdf.to_csv(train_data_path + f\"{f}_clean.csv\")\n",
    "\n",
    "for f in test_data_files:\n",
    "\tdf = pd.read_csv(test_data_path + f + \"_clean.csv\", parse_dates=[\"Date\"], index_col=\"Date\")\n",
    "\n",
    "\tdf[\"5_day\"] = df[\"Close/Last\"].rolling(window=5).mean()\n",
    "\tdf[\"10_day\"] = df[\"Close/Last\"].rolling(window=10).mean()\n",
    "\tdf[\"20_day\"] = df[\"Close/Last\"].rolling(window=20).mean()\n",
    "\tdf[\"market_cap_b\"] = (df[\"Volume\"] * df[\"Open\"])/1e9\n",
    "\tdf[\"buy\"] = (df[\"Close/Last\"].shift(-1) > df[\"Close/Last\"]).astype(int)\n",
    "\tdf.dropna(inplace=True)\n",
    "\tdf.to_csv(test_data_path + f\"{f}_clean.csv\")"
   ]
  },
  {
   "cell_type": "code",
   "execution_count": null,
   "metadata": {},
   "outputs": [],
   "source": []
  }
 ],
 "metadata": {
  "kernelspec": {
   "display_name": "Python 3",
   "language": "python",
   "name": "python3"
  },
  "language_info": {
   "codemirror_mode": {
    "name": "ipython",
    "version": 3
   },
   "file_extension": ".py",
   "mimetype": "text/x-python",
   "name": "python",
   "nbconvert_exporter": "python",
   "pygments_lexer": "ipython3",
   "version": "3.10.6"
  },
  "orig_nbformat": 4
 },
 "nbformat": 4,
 "nbformat_minor": 2
}
